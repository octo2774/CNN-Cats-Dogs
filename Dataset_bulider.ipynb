{
  "nbformat": 4,
  "nbformat_minor": 0,
  "metadata": {
    "colab": {
      "name": "Dataset_bulider.ipynb",
      "provenance": [],
      "authorship_tag": "ABX9TyPzS9wVncdStUMpRrjzEwy4",
      "include_colab_link": true
    },
    "kernelspec": {
      "name": "python3",
      "display_name": "Python 3"
    }
  },
  "cells": [
    {
      "cell_type": "markdown",
      "metadata": {
        "id": "view-in-github",
        "colab_type": "text"
      },
      "source": [
        "<a href=\"https://colab.research.google.com/github/octo2774/CNN-Cats-Dogs/blob/main/Dataset_bulider.ipynb\" target=\"_parent\"><img src=\"https://colab.research.google.com/assets/colab-badge.svg\" alt=\"Open In Colab\"/></a>"
      ]
    },
    {
      "cell_type": "code",
      "metadata": {
        "id": "wcgUypMUoEnK"
      },
      "source": [
        "#!pip install keras==2.4.3"
      ],
      "execution_count": null,
      "outputs": []
    },
    {
      "cell_type": "code",
      "metadata": {
        "id": "tnfVW9aZoI16"
      },
      "source": [
        "import keras\r\n",
        "keras.__version__"
      ],
      "execution_count": null,
      "outputs": []
    },
    {
      "cell_type": "code",
      "metadata": {
        "id": "j7C-hvj_oJ9-"
      },
      "source": [
        "!unzip test_data.zip"
      ],
      "execution_count": null,
      "outputs": []
    },
    {
      "cell_type": "code",
      "metadata": {
        "id": "PklKesz4oK3k"
      },
      "source": [
        "from google.colab import drive\r\n",
        "drive.mount('/content/drive')"
      ],
      "execution_count": null,
      "outputs": []
    },
    {
      "cell_type": "code",
      "metadata": {
        "id": "tRAMHMvEoNxs"
      },
      "source": [
        "import glob\r\n",
        "import numpy as np\r\n",
        "import matplotlib.pyplot as plt\r\n",
        "from tensorflow.keras.preprocessing.image import ImageDataGenerator, load_img, img_to_array, array_to_img"
      ],
      "execution_count": null,
      "outputs": []
    },
    {
      "cell_type": "code",
      "metadata": {
        "id": "PGUA4PHWoPR9"
      },
      "source": [
        "!ls -1"
      ],
      "execution_count": null,
      "outputs": []
    },
    {
      "cell_type": "code",
      "metadata": {
        "id": "P1ZU7xf9oQgu"
      },
      "source": [
        "IMG_DIM = (150, 150)\r\n",
        "\r\n",
        "train_files = glob.glob('training_data/*')\r\n",
        "train_imgs = [img_to_array(load_img(img, target_size=IMG_DIM)) for img in train_files]\r\n",
        "train_imgs = np.array(train_imgs)\r\n",
        "train_labels = [fn.split('/')[1].split('.')[0].strip() for fn in train_files]\r\n",
        "\r\n",
        "validation_files = glob.glob('validation_data/*')\r\n",
        "validation_imgs = [img_to_array(load_img(img, target_size=IMG_DIM)) for img in validation_files]\r\n",
        "validation_imgs = np.array(validation_imgs)\r\n",
        "validation_labels = [fn.split('/')[1].split('.')[0].strip() for fn in validation_files]\r\n",
        "\r\n",
        "print('Train dataset shape:', train_imgs.shape, \r\n",
        "      '\\tValidation dataset shape:', validation_imgs.shape)"
      ],
      "execution_count": null,
      "outputs": []
    },
    {
      "cell_type": "code",
      "metadata": {
        "id": "Ni4JqgssoSA1"
      },
      "source": [
        "train_imgs_scaled = train_imgs.astype('float32')\r\n",
        "validation_imgs_scaled  = validation_imgs.astype('float32')\r\n",
        "train_imgs_scaled /= 255\r\n",
        "validation_imgs_scaled /= 255"
      ],
      "execution_count": null,
      "outputs": []
    },
    {
      "cell_type": "code",
      "metadata": {
        "id": "cY6pfOiooTJ1"
      },
      "source": [
        "print(train_imgs[12].shape)\r\n",
        "array_to_img(train_imgs[12])"
      ],
      "execution_count": null,
      "outputs": []
    },
    {
      "cell_type": "code",
      "metadata": {
        "id": "2Oy_HbQsoUG7"
      },
      "source": [
        "batch_size = 30\r\n",
        "num_classes = 2\r\n",
        "epochs = 30\r\n",
        "input_shape = (150, 150, 3)\r\n",
        "\r\n",
        "# encode text category labels\r\n",
        "from sklearn.preprocessing import LabelEncoder\r\n",
        "\r\n",
        "le = LabelEncoder()\r\n",
        "le.fit(train_labels)\r\n",
        "train_labels_enc = le.transform(train_labels)\r\n",
        "validation_labels_enc = le.transform(validation_labels)\r\n",
        "\r\n",
        "print(train_labels[1495:1505], train_labels_enc[1495:1505])"
      ],
      "execution_count": null,
      "outputs": []
    },
    {
      "cell_type": "code",
      "metadata": {
        "id": "rVbpoGqhoXYw"
      },
      "source": [
        "from tensorflow.keras.layers import Conv2D, MaxPooling2D, Flatten, Dense, Dropout\r\n",
        "from tensorflow.keras.models import Sequential\r\n",
        "from tensorflow.keras import optimizers\r\n",
        "\r\n",
        "model = Sequential()\r\n",
        "\r\n",
        "model.add(Conv2D(32, (3, 3), input_shape=input_shape),)\r\n",
        "model.add(MaxPooling2D(pool_size=(2, 2)))\r\n",
        "\r\n",
        "model.add(Conv2D(32, (3, 3), activation='relu'))\r\n",
        "model.add(MaxPooling2D(pool_size=(2, 2)))\r\n",
        "\r\n",
        "model.add(Conv2D(64, (3, 3), activation='relu'))\r\n",
        "model.add(MaxPooling2D(pool_size=(2, 2)))\r\n",
        "\r\n",
        "model.add(Flatten())\r\n",
        "model.add(Dense(64, activation='relu'))\r\n",
        "model.add(Dropout(0.5))\r\n",
        "model.add(Dense(1))\r\n",
        "model.add(Dense(1, activation='sigmoid'))\r\n",
        "\r\n",
        "model.compile(loss='binary_crossentropy',\r\n",
        "              optimizer='rmsprop',\r\n",
        "              metrics=['accuracy'])\r\n",
        "\r\n",
        "model.summary()"
      ],
      "execution_count": null,
      "outputs": []
    },
    {
      "cell_type": "code",
      "metadata": {
        "id": "qE4KvrVmoXk9"
      },
      "source": [
        "from IPython.display import SVG\r\n",
        "from tensorflow.python.keras.utils.vis_utils import model_to_dot\r\n",
        "\r\n",
        "SVG(model_to_dot(model, show_shapes=True, \r\n",
        "                 show_layer_names=True, rankdir='TB').create(prog='dot', format='svg'))"
      ],
      "execution_count": null,
      "outputs": []
    },
    {
      "cell_type": "code",
      "metadata": {
        "id": "hTs08OTDoY6n"
      },
      "source": [
        "history = model.fit(x=train_imgs_scaled, y=train_labels_enc,\r\n",
        "                    validation_data=(validation_imgs_scaled, validation_labels_enc),\r\n",
        "                    batch_size=batch_size,\r\n",
        "                    epochs=epochs,\r\n",
        "                    verbose=1)"
      ],
      "execution_count": null,
      "outputs": []
    },
    {
      "cell_type": "code",
      "metadata": {
        "id": "UFFgfN2Foabl"
      },
      "source": [
        "f, (ax1, ax2) = plt.subplots(1, 2, figsize=(12, 4))\r\n",
        "t = f.suptitle('Basic CNN Performance', fontsize=12)\r\n",
        "f.subplots_adjust(top=0.85, wspace=0.3)\r\n",
        "\r\n",
        "epoch_list = list(range(1,31))\r\n",
        "ax1.plot(epoch_list, history.history['accuracy'], label='Train Accuracy')\r\n",
        "ax1.plot(epoch_list, history.history['val_accuracy'], label='Validation Accuracy')\r\n",
        "ax1.set_xticks(np.arange(0, 31, 5))\r\n",
        "ax1.set_ylabel('Accuracy Value')\r\n",
        "ax1.set_xlabel('Epoch')\r\n",
        "ax1.set_title('Accuracy')\r\n",
        "l1 = ax1.legend(loc=\"best\")\r\n",
        "\r\n",
        "ax2.plot(epoch_list, history.history['loss'], label='Train Loss')\r\n",
        "ax2.plot(epoch_list, history.history['val_loss'], label='Validation Loss')\r\n",
        "ax2.set_xticks(np.arange(0, 31, 5))\r\n",
        "ax2.set_ylabel('Loss Value')\r\n",
        "ax2.set_xlabel('Epoch')\r\n",
        "ax2.set_title('Loss')\r\n",
        "l2 = ax2.legend(loc=\"best\")"
      ],
      "execution_count": null,
      "outputs": []
    },
    {
      "cell_type": "code",
      "metadata": {
        "id": "TKgrfjPSocFW"
      },
      "source": [
        "model = Sequential()\r\n",
        "\r\n",
        "model.add(Conv2D(16, kernel_size=(3, 3), activation='relu', \r\n",
        "                 input_shape=input_shape))\r\n",
        "model.add(MaxPooling2D(pool_size=(2, 2)))\r\n",
        "\r\n",
        "model.add(Conv2D(64, kernel_size=(3, 3), activation='relu'))\r\n",
        "model.add(MaxPooling2D(pool_size=(2, 2)))\r\n",
        "\r\n",
        "model.add(Conv2D(128, kernel_size=(3, 3), activation='relu'))\r\n",
        "model.add(MaxPooling2D(pool_size=(2, 2)))\r\n",
        "\r\n",
        "model.add(Conv2D(128, kernel_size=(3, 3), activation='relu'))\r\n",
        "model.add(MaxPooling2D(pool_size=(2, 2)))\r\n",
        "\r\n",
        "model.add(Flatten())\r\n",
        "model.add(Dense(512, activation='relu'))\r\n",
        "model.add(Dropout(0.3))\r\n",
        "model.add(Dense(512, activation='relu'))\r\n",
        "model.add(Dropout(0.3))\r\n",
        "model.add(Dense(1, activation='sigmoid'))\r\n",
        "\r\n",
        "\r\n",
        "model.compile(loss='binary_crossentropy',\r\n",
        "              optimizer=optimizers.RMSprop(),\r\n",
        "              metrics=['accuracy'])\r\n",
        "\r\n",
        "model.summary()"
      ],
      "execution_count": null,
      "outputs": []
    },
    {
      "cell_type": "code",
      "metadata": {
        "id": "iB8UxjiAoerV"
      },
      "source": [
        "history = model.fit(x=train_imgs_scaled, y=train_labels_enc,\r\n",
        "                    validation_data=(validation_imgs_scaled, validation_labels_enc),\r\n",
        "                    batch_size=batch_size,\r\n",
        "                    epochs=epochs,\r\n",
        "                    verbose=1)"
      ],
      "execution_count": null,
      "outputs": []
    },
    {
      "cell_type": "code",
      "metadata": {
        "id": "ixBj0LKkoiIx"
      },
      "source": [
        "model.save('cats_dogs_basic_cnn.h5')"
      ],
      "execution_count": null,
      "outputs": []
    },
    {
      "cell_type": "code",
      "metadata": {
        "id": "VJHrOselokAM"
      },
      "source": [
        "model = Sequential()\r\n",
        "\r\n",
        "model.add(Conv2D(64, (3,3), padding='Same', activation='relu', \r\n",
        "                 input_shape=input_shape))\r\n",
        "model.add(Conv2D(64, (3,3), padding='Same', activation='relu'))\r\n",
        "model.add(MaxPooling2D(pool_size=(2, 2), strides=(2,2)))\r\n",
        "\r\n",
        "model.add(Conv2D(128, (3,3), padding='Same', activation='relu'))\r\n",
        "model.add(Conv2D(128, (3,3), padding='Same', activation='relu'))\r\n",
        "model.add(MaxPooling2D(pool_size=(2, 2), strides=(2,2)))\r\n",
        "\r\n",
        "model.add(Conv2D(256, (3,3), padding='Same', activation='relu'))\r\n",
        "model.add(Conv2D(256, (3,3), padding='Same', activation='relu'))\r\n",
        "model.add(Conv2D(256, (3,3), padding='Same', activation='relu'))\r\n",
        "model.add(MaxPooling2D(pool_size=(2, 2), strides=(2,2)))\r\n",
        "\r\n",
        "model.add(Conv2D(512, (3,3), padding='Same', activation='relu'))\r\n",
        "model.add(Conv2D(512, (3,3), padding='Same', activation='relu'))\r\n",
        "model.add(Conv2D(512, (3,3), padding='Same', activation='relu'))\r\n",
        "model.add(MaxPooling2D(pool_size=(2, 2), strides=(2,2)))\r\n",
        "\r\n",
        "model.add(Conv2D(512, kernel_size=(3, 3), padding='Same', activation='relu'))\r\n",
        "model.add(Conv2D(512, kernel_size=(3, 3), padding='Same', activation='relu'))\r\n",
        "model.add(Conv2D(512, kernel_size=(3, 3), padding='Same', activation='relu'))\r\n",
        "model.add(MaxPooling2D(pool_size=(2, 2), strides=(2,2)))\r\n",
        "\r\n",
        "model.add(Flatten())\r\n",
        "model.add(Dense(512, activation='relu'))\r\n",
        "model.add(Dropout(0.3))\r\n",
        "model.add(Dense(512, activation='relu'))\r\n",
        "model.add(Dropout(0.3))\r\n",
        "model.add(Dense(1, activation='sigmoid'))\r\n",
        "\r\n",
        "model.summary()"
      ],
      "execution_count": null,
      "outputs": []
    }
  ]
}